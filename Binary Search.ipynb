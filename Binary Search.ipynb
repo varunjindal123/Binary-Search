{
 "cells": [
  {
   "cell_type": "code",
   "execution_count": 1,
   "metadata": {},
   "outputs": [
    {
     "name": "stdout",
     "output_type": "stream",
     "text": [
      "[1, 2, 3, 4, 23]\n",
      "Enter the number to be found: 2\n",
      "Key is found\n"
     ]
    }
   ],
   "source": [
    "def BinarySearch(list1,key):\n",
    "    low=0\n",
    "    high=len(list1)-1\n",
    "    Found=False\n",
    "    while low<=high and not Found:\n",
    "        mid= low+high//2\n",
    "        if key ==list1[mid]:\n",
    "            Found=True\n",
    "        elif key >list1[mid]:\n",
    "            low=mid+1\n",
    "        else:\n",
    "            high =mid-1\n",
    "        \n",
    "    if Found ==True:\n",
    "        print(\"Key is found\")\n",
    "    else:\n",
    "        print(\"Key not found\")\n",
    "\n",
    "list1=[23,1,4,2,3]\n",
    "list1.sort()\n",
    "print(list1)\n",
    "key=int(input(\"Enter the number to be found: \"))\n",
    "BinarySearch(list1,key)"
   ]
  },
  {
   "cell_type": "code",
   "execution_count": null,
   "metadata": {},
   "outputs": [],
   "source": []
  }
 ],
 "metadata": {
  "kernelspec": {
   "display_name": "Python 3",
   "language": "python",
   "name": "python3"
  },
  "language_info": {
   "codemirror_mode": {
    "name": "ipython",
    "version": 3
   },
   "file_extension": ".py",
   "mimetype": "text/x-python",
   "name": "python",
   "nbconvert_exporter": "python",
   "pygments_lexer": "ipython3",
   "version": "3.8.3"
  }
 },
 "nbformat": 4,
 "nbformat_minor": 4
}
